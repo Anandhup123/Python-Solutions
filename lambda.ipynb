{
 "cells": [
  {
   "cell_type": "markdown",
   "metadata": {},
   "source": [
    "Lambda functions in Python are small, anonymous functions that are defined using the lambda keyword. They can take any number of arguments but can only have a single expression. The expression is evaluated and returned when the function is called."
   ]
  },
  {
   "cell_type": "code",
   "execution_count": 2,
   "metadata": {},
   "outputs": [
    {
     "name": "stdout",
     "output_type": "stream",
     "text": [
      "3\n"
     ]
    }
   ],
   "source": [
    "sum = lambda x,y : x + y\n",
    "print(sum(1,2))"
   ]
  },
  {
   "cell_type": "markdown",
   "metadata": {},
   "source": [
    "write a lambda function to get a power of a number "
   ]
  },
  {
   "cell_type": "code",
   "execution_count": 5,
   "metadata": {},
   "outputs": [
    {
     "name": "stdout",
     "output_type": "stream",
     "text": [
      "1024\n"
     ]
    }
   ],
   "source": [
    "power = lambda value,pow :value**pow\n",
    "\n",
    "print(power(2,10))"
   ]
  },
  {
   "cell_type": "markdown",
   "metadata": {},
   "source": [
    "Lambda function in List Higher order functions Like \n",
    "Map,filter,sorted,reduce,any,all,max,min,sum,zip"
   ]
  },
  {
   "cell_type": "markdown",
   "metadata": {},
   "source": [
    "Map is for one some operation that all the members in the list is participating "
   ]
  },
  {
   "cell_type": "code",
   "execution_count": 6,
   "metadata": {},
   "outputs": [
    {
     "name": "stdout",
     "output_type": "stream",
     "text": [
      "[484, 1, 16, 4, 1, 4, 0, 25, 49]\n"
     ]
    }
   ],
   "source": [
    "numbers = [22,1,4,2,1,2,0,5,7]\n",
    "\n",
    "squared_numbers = list(map(lambda x:x**2,numbers))\n",
    "print(squared_numbers)"
   ]
  },
  {
   "cell_type": "markdown",
   "metadata": {},
   "source": [
    "filter function is to filter out a list based on the given condition "
   ]
  },
  {
   "cell_type": "code",
   "execution_count": null,
   "metadata": {},
   "outputs": [
    {
     "name": "stdout",
     "output_type": "stream",
     "text": [
      "[13, 45, 3, 45]\n",
      "[12, 32, 6, 54, 2]\n"
     ]
    }
   ],
   "source": [
    "List1 = [12,13,45,32,6,54,3,45,2]\n",
    "\n",
    "even_numbers = list(filter(lambda x:x%2 == 0,List1))\n",
    "odd_numbers = list(filter(lambda x : x%2 !=0,List1))\n",
    "print(odd_numbers)\n",
    "print(even_numbers)"
   ]
  }
 ],
 "metadata": {
  "kernelspec": {
   "display_name": "Python 3",
   "language": "python",
   "name": "python3"
  },
  "language_info": {
   "codemirror_mode": {
    "name": "ipython",
    "version": 3
   },
   "file_extension": ".py",
   "mimetype": "text/x-python",
   "name": "python",
   "nbconvert_exporter": "python",
   "pygments_lexer": "ipython3",
   "version": "3.10.0"
  }
 },
 "nbformat": 4,
 "nbformat_minor": 2
}
