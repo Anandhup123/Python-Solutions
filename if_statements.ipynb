{
 "cells": [
  {
   "cell_type": "markdown",
   "metadata": {},
   "source": [
    "**Simple IF **"
   ]
  },
  {
   "cell_type": "code",
   "execution_count": 2,
   "metadata": {},
   "outputs": [
    {
     "name": "stdout",
     "output_type": "stream",
     "text": [
      "The number is Positive\n"
     ]
    }
   ],
   "source": [
    "num = float(input(\"Enter a number: \"))\n",
    "if num > 0:\n",
    "    print(\"The number is Positive\")\n",
    "elif num < 0:\n",
    "    print(\"The number is Negative\")\n",
    "else:\n",
    "    print(\"The number is Zero\")"
   ]
  },
  {
   "cell_type": "code",
   "execution_count": null,
   "metadata": {},
   "outputs": [],
   "source": [
    "num = int(input(\"Enter a number: \"))\n",
    "if num % 2 == 0:\n",
    "    print(\"The number is Even\")\n",
    "else:\n",
    "    print(\"The number is Odd\")\n"
   ]
  },
  {
   "cell_type": "code",
   "execution_count": null,
   "metadata": {},
   "outputs": [],
   "source": [
    "units = int(input(\"Enter total units consumed: \"))\n",
    "rate_per_unit = 3\n",
    "bill_amount = units * rate_per_unit\n",
    "\n",
    "if units > 200:\n",
    "    surcharge = 0.05 * bill_amount\n",
    "    bill_amount += surcharge\n",
    "\n",
    "print(f\"Total Electricity Bill: ₹{bill_amount:.2f}\")"
   ]
  },
  {
   "cell_type": "code",
   "execution_count": null,
   "metadata": {},
   "outputs": [],
   "source": [
    "marks = float(input(\"Enter student's marks: \"))\n",
    "if marks >= 50:\n",
    "    print(\"Pass\")\n",
    "else:\n",
    "    print(\"Fail\")\n"
   ]
  },
  {
   "cell_type": "markdown",
   "metadata": {},
   "source": [
    "*** Elif ladder ***"
   ]
  },
  {
   "cell_type": "code",
   "execution_count": null,
   "metadata": {},
   "outputs": [],
   "source": [
    "month_number = int(input(\"Enter month number (1-12): \"))\n",
    "\n",
    "if month_number == 1:\n",
    "    print(\"January\")\n",
    "elif month_number == 2:\n",
    "    print(\"February\")\n",
    "elif month_number == 3:\n",
    "    print(\"March\")\n",
    "elif month_number == 4:\n",
    "    print(\"April\")\n",
    "elif month_number == 5:\n",
    "    print(\"May\")\n",
    "elif month_number == 6:\n",
    "    print(\"June\")\n",
    "elif month_number == 7:\n",
    "    print(\"July\")\n",
    "elif month_number == 8:\n",
    "    print(\"August\")\n",
    "elif month_number == 9:\n",
    "    print(\"September\")\n",
    "elif month_number == 10:\n",
    "    print(\"October\")\n",
    "elif month_number == 11:\n",
    "    print(\"November\")\n",
    "elif month_number == 12:\n",
    "    print(\"December\")\n",
    "else:\n",
    "    print(\"Invalid month number! Please enter a number between 1 and 12.\")\n"
   ]
  },
  {
   "cell_type": "code",
   "execution_count": null,
   "metadata": {},
   "outputs": [],
   "source": [
    "color = input(\"Enter traffic light color (Red/Yellow/Green): \").strip().lower()\n",
    "\n",
    "if color == \"red\":\n",
    "    print(\"Stop\")\n",
    "elif color == \"yellow\":\n",
    "    print(\"Slow Down\")\n",
    "elif color == \"green\":\n",
    "    print(\"Go\")\n",
    "else:\n",
    "    print(\"Invalid color! Please enter Red, Yellow, or Green.\")\n"
   ]
  },
  {
   "cell_type": "code",
   "execution_count": null,
   "metadata": {},
   "outputs": [],
   "source": [
    "liters = float(input(\"Enter water consumption in liters: \"))\n",
    "\n",
    "if liters < 100:\n",
    "    print(\"Low Usage\")\n",
    "elif liters <= 300:\n",
    "    print(\"Moderate Usage\")\n",
    "else:\n",
    "    print(\"High Usage\")\n"
   ]
  },
  {
   "cell_type": "code",
   "execution_count": null,
   "metadata": {},
   "outputs": [],
   "source": [
    "marks = float(input(\"Enter student's marks: \"))\n",
    "\n",
    "if marks >= 90:\n",
    "    print(\"Grade: A\")\n",
    "elif marks >= 75:\n",
    "    print(\"Grade: B\")\n",
    "elif marks >= 50:\n",
    "    print(\"Grade: C\")\n",
    "else:\n",
    "    print(\"Grade: Fail\")\n"
   ]
  },
  {
   "cell_type": "markdown",
   "metadata": {},
   "source": [
    "*** Nested if ***"
   ]
  },
  {
   "cell_type": "code",
   "execution_count": null,
   "metadata": {},
   "outputs": [],
   "source": [
    "age1 = int(input(\"Enter first person's age: \"))\n",
    "age2 = int(input(\"Enter second person's age: \"))\n",
    "age3 = int(input(\"Enter third person's age: \"))\n",
    "\n",
    "if age1 > age2:\n",
    "    if age1 > age3:\n",
    "        print(\"The eldest person is\", age1, \"years old.\")\n",
    "    else:\n",
    "        print(\"The eldest person is\", age3, \"years old.\")\n",
    "elif age2 > age3:\n",
    "    print(\"The eldest person is\", age2, \"years old.\")\n",
    "else:\n",
    "    print(\"The eldest person is\", age3, \"years old.\")\n"
   ]
  },
  {
   "cell_type": "code",
   "execution_count": null,
   "metadata": {},
   "outputs": [],
   "source": [
    "experience = int(input(\"Enter years of experience: \"))\n",
    "salary = float(input(\"Enter salary: \"))\n",
    "\n",
    "if experience >= 5:\n",
    "    if experience > 10:\n",
    "        bonus = 0.2 * salary\n",
    "        print(f\"Bonus: 20% of salary ({bonus})\")\n",
    "    else:\n",
    "        bonus = 0.1 * salary\n",
    "        print(f\"Bonus: 10% of salary ({bonus})\")\n",
    "else:\n",
    "    print(\"No bonus\")\n"
   ]
  },
  {
   "cell_type": "code",
   "execution_count": null,
   "metadata": {},
   "outputs": [],
   "source": [
    "balance = float(input(\"Enter account balance: \"))\n",
    "withdraw_amount = int(input(\"Enter withdrawal amount: \"))\n",
    "\n",
    "if withdraw_amount <= balance:\n",
    "    print(\"Processing withdrawal...\")\n",
    "    if withdraw_amount % 100 == 0:\n",
    "        print(\"Transaction successful.\")\n",
    "    else:\n",
    "        print(\"Enter amount in multiples of ₹100.\")\n",
    "else:\n",
    "    print(\"Insufficient funds.\")\n"
   ]
  },
  {
   "cell_type": "code",
   "execution_count": null,
   "metadata": {},
   "outputs": [],
   "source": [
    "units = int(input(\"Enter the number of units consumed: \"))\n",
    "bill = 0\n",
    "\n",
    "if units > 200:\n",
    "    bill += (units - 200) * 10\n",
    "    units = 200\n",
    "\n",
    "if units > 100:\n",
    "    bill += (units - 100) * 5\n",
    "    units = 100\n",
    "else :\n",
    "    bill = 0\n",
    "print(\"Electricity Bill: ₹\", bill)"
   ]
  },
  {
   "cell_type": "code",
   "execution_count": 3,
   "metadata": {},
   "outputs": [
    {
     "name": "stdout",
     "output_type": "stream",
     "text": [
      "The last digit is not divisible by 3.\n"
     ]
    }
   ],
   "source": [
    "num = int(input(\"Enter a number: \"))\n",
    "last_digit = num % 10  # Extract the last digit\n",
    "\n",
    "if last_digit % 3 == 0:\n",
    "    print(\"The last digit is divisible by 3.\")\n",
    "else:\n",
    "    print(\"The last digit is not divisible by 3.\")\n"
   ]
  },
  {
   "cell_type": "code",
   "execution_count": null,
   "metadata": {},
   "outputs": [],
   "source": [
    "year = int(input(\"Enter a year: \"))\n",
    "\n",
    "if year % 400 == 0:\n",
    "    print(\"Leap Year\")\n",
    "elif year % 4 == 0:\n",
    "    if year % 100 != 0:\n",
    "        print(\"Leap Year\")\n",
    "    else:\n",
    "        print(\"Not a Leap Year\")\n",
    "else:\n",
    "    print(\"Not a Leap Year\")\n"
   ]
  },
  {
   "cell_type": "code",
   "execution_count": null,
   "metadata": {},
   "outputs": [],
   "source": [
    "age1 = int(input(\"Enter first age: \"))\n",
    "age2 = int(input(\"Enter second age: \"))\n",
    "age3 = int(input(\"Enter third age: \"))\n",
    "age4 = int(input(\"Enter fourth age: \"))\n",
    "\n",
    "eldest = age1\n",
    "\n",
    "if age2 > eldest:\n",
    "    eldest = age2\n",
    "if age3 > eldest:\n",
    "    eldest = age3\n",
    "if age4 > eldest:\n",
    "    eldest = age4\n",
    "\n",
    "print(\"The eldest age is:\", eldest)\n"
   ]
  },
  {
   "cell_type": "code",
   "execution_count": null,
   "metadata": {},
   "outputs": [],
   "source": [
    "side1 = int(input(\"Enter first side: \"))\n",
    "side2 = int(input(\"Enter second side: \"))\n",
    "side3 = int(input(\"Enter third side: \"))\n",
    "\n",
    "if side1 == side2:\n",
    "    if side2 == side3:\n",
    "        print(\"Equilateral Triangle\")\n",
    "    else:\n",
    "        print(\"Isosceles Triangle\")\n",
    "elif side1 == side3 or side2 == side3:\n",
    "    print(\"Isosceles Triangle\")\n",
    "else:\n",
    "    print(\"Scalene Triangle\")\n"
   ]
  },
  {
   "cell_type": "code",
   "execution_count": null,
   "metadata": {},
   "outputs": [],
   "source": [
    "char = input(\"Enter a character: \").lower()\n",
    "\n",
    "if char == 'a':\n",
    "    print(\"Vowel\")\n",
    "elif char == 'e':\n",
    "    print(\"Vowel\")\n",
    "elif char == 'i':\n",
    "    print(\"Vowel\")\n",
    "elif char == 'o':\n",
    "    print(\"Vowel\")\n",
    "elif char == 'u':\n",
    "    print(\"Vowel\")\n",
    "else:\n",
    "    print(\"Consonant\")\n"
   ]
  },
  {
   "cell_type": "code",
   "execution_count": null,
   "metadata": {},
   "outputs": [],
   "source": [
    "num1 = int(input(\"Enter first number: \"))\n",
    "num2 = int(input(\"Enter second number: \"))\n",
    "num3 = int(input(\"Enter third number: \"))\n",
    "\n",
    "largest = num1\n",
    "\n",
    "if num2 > largest:\n",
    "    largest = num2\n",
    "if num3 > largest:\n",
    "    largest = num3\n",
    "\n",
    "if num1 == largest:\n",
    "    second_largest = num2\n",
    "else:\n",
    "    second_largest = num1\n",
    "\n",
    "if num3 > second_largest and num3 < largest:\n",
    "    second_largest = num3\n",
    "elif num2 > second_largest and num2 < largest:\n",
    "    second_largest = num2\n",
    "\n",
    "print(\"The second largest number is:\", second_largest)\n"
   ]
  }
 ],
 "metadata": {
  "kernelspec": {
   "display_name": "Python 3",
   "language": "python",
   "name": "python3"
  },
  "language_info": {
   "codemirror_mode": {
    "name": "ipython",
    "version": 3
   },
   "file_extension": ".py",
   "mimetype": "text/x-python",
   "name": "python",
   "nbconvert_exporter": "python",
   "pygments_lexer": "ipython3",
   "version": "3.10.0"
  }
 },
 "nbformat": 4,
 "nbformat_minor": 2
}
