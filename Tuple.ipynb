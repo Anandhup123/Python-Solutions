{
 "cells": [
  {
   "cell_type": "code",
   "execution_count": null,
   "metadata": {},
   "outputs": [],
   "source": [
    "t = (1, 2, 3, 4, 1, 2, 1, 5, 1)\n",
    "element = 1\n",
    "count = t.count(element)\n",
    "print(f\"{element} occurs {count} times in the tuple.\")\n"
   ]
  },
  {
   "cell_type": "code",
   "execution_count": null,
   "metadata": {},
   "outputs": [],
   "source": [
    "t = (\"Hello\", \"World\", \"Python\")\n",
    "result = \" \".join(t)  # Join elements with space\n",
    "print(result)\n"
   ]
  },
  {
   "cell_type": "code",
   "execution_count": null,
   "metadata": {},
   "outputs": [],
   "source": [
    "t1 = (1, 2, 3, 4)\n",
    "t2 = (3, 4, 5, 6)\n",
    "\n",
    "merged = tuple(set(t1 + t2))  # Merge and convert to set to remove duplicates\n",
    "print(merged)\n"
   ]
  },
  {
   "cell_type": "code",
   "execution_count": null,
   "metadata": {},
   "outputs": [],
   "source": [
    "t1 = (1, 2, 3)\n",
    "t2 = (1, 2, 3, 4, 5)\n",
    "\n",
    "is_subset = all(item in t2 for item in t1)  # Check if all elements of t1 exist in t2\n",
    "print(\"t1 is a subset of t2:\", is_subset)\n"
   ]
  },
  {
   "cell_type": "code",
   "execution_count": null,
   "metadata": {},
   "outputs": [],
   "source": [
    "tuple1 = (\"Orange\", [10, 20, 30], (5, 15, 25))\n",
    "value = tuple1[1][1]  # Access 20 from the nested list\n",
    "print(value)\n"
   ]
  },
  {
   "cell_type": "code",
   "execution_count": null,
   "metadata": {},
   "outputs": [],
   "source": [
    "t1 = (1, 2, 3)\n",
    "t2 = (4, 5, 6)\n",
    "\n",
    "t1, t2 = t2, t1  # Swapping tuples\n",
    "print(\"t1:\", t1)\n",
    "print(\"t2:\", t2)\n"
   ]
  },
  {
   "cell_type": "code",
   "execution_count": null,
   "metadata": {},
   "outputs": [],
   "source": [
    "t = (5, 5, 5, 5)\n",
    "\n",
    "if all(i == t[0] for i in t):  # Check if all elements are equal to the first one\n",
    "    print(\"All items are the same.\")\n",
    "else:\n",
    "    print(\"Not all items are the same.\")\n"
   ]
  },
  {
   "cell_type": "code",
   "execution_count": null,
   "metadata": {},
   "outputs": [],
   "source": [
    "t = (1, 2, 3)\n",
    "t = t + (4,)  # Tuples are immutable, so we create a new tuple\n",
    "print(t)\n"
   ]
  },
  {
   "cell_type": "code",
   "execution_count": null,
   "metadata": {},
   "outputs": [],
   "source": [
    "t = (1, 2, 3, 4, 1, 2, 1, 5, 1)\n",
    "repeats = {item for item in t if t.count(item) > 1}  # Use set comprehension\n",
    "print(\"Repeated items:\", repeats)\n"
   ]
  },
  {
   "cell_type": "code",
   "execution_count": null,
   "metadata": {},
   "outputs": [],
   "source": [
    "data = [(10, 20, 40), (40, 50, 60), (70, 80, 90)]\n",
    "updated_data = [t[:-1] + (100,) for t in data]  # Replace last element with 100\n",
    "print(updated_data)"
   ]
  },
  {
   "cell_type": "markdown",
   "metadata": {},
   "source": [
    "***Real World Questions***"
   ]
  },
  {
   "cell_type": "code",
   "execution_count": null,
   "metadata": {},
   "outputs": [],
   "source": [
    "sales = [('Apple', 10, 2), ('Banana', 5, 1), ('Orange', 8, 1.5)]\n",
    "\n",
    "total_revenue = sum(quantity * price for _, quantity, price in sales)\n",
    "\n",
    "print(\"Total Revenue:\", total_revenue)\n"
   ]
  },
  {
   "cell_type": "code",
   "execution_count": null,
   "metadata": {},
   "outputs": [],
   "source": [
    "prices = [('Monday', 150), ('Tuesday', 155), ('Wednesday', 153)]\n",
    "\n",
    "highest_price_day = max(prices, key=lambda x: x[1])  # Find the tuple with the max price\n",
    "\n",
    "print(\"Day with the highest price:\", highest_price_day[0])"
   ]
  }
 ],
 "metadata": {
  "language_info": {
   "name": "python"
  }
 },
 "nbformat": 4,
 "nbformat_minor": 2
}
