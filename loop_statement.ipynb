{
 "cells": [
  {
   "cell_type": "markdown",
   "metadata": {},
   "source": [
    "*** While loop ***"
   ]
  },
  {
   "cell_type": "code",
   "execution_count": null,
   "metadata": {},
   "outputs": [],
   "source": [
    "N = int(input(\"Enter a number: \"))\n",
    "i = 1\n",
    "\n",
    "while i <= N:\n",
    "    print(i, end=\" \")\n",
    "    i += 1\n"
   ]
  },
  {
   "cell_type": "code",
   "execution_count": 1,
   "metadata": {},
   "outputs": [
    {
     "name": "stdout",
     "output_type": "stream",
     "text": [
      "6 is a Perfect Number\n"
     ]
    }
   ],
   "source": [
    "num = int(input(\"Enter a number: \"))\n",
    "i = 1\n",
    "sum_of_divisors = 0\n",
    "\n",
    "while i < num:\n",
    "    if num % i == 0:\n",
    "        sum_of_divisors += i\n",
    "    i += 1\n",
    "\n",
    "if sum_of_divisors == num:\n",
    "    print(num, \"is a Perfect Number\")\n",
    "else:\n",
    "    print(num, \"is not a Perfect Number\")\n"
   ]
  },
  {
   "cell_type": "code",
   "execution_count": null,
   "metadata": {},
   "outputs": [],
   "source": [
    "num = int(input(\"Enter a number: \"))\n",
    "reverse = 0\n",
    "\n",
    "while num > 0:\n",
    "    digit = num % 10\n",
    "    reverse = (reverse * 10) + digit\n",
    "    num //= 10\n",
    "\n",
    "print(\"Reversed number:\", reverse)\n"
   ]
  },
  {
   "cell_type": "code",
   "execution_count": null,
   "metadata": {},
   "outputs": [],
   "source": [
    "num = int(input(\"Enter a number: \"))\n",
    "count = 0\n",
    "\n",
    "while num > 0:\n",
    "    num //= 10\n",
    "    count += 1\n",
    "\n",
    "print(\"Number of digits:\", count)\n"
   ]
  },
  {
   "cell_type": "code",
   "execution_count": null,
   "metadata": {},
   "outputs": [
    {
     "name": "stdout",
     "output_type": "stream",
     "text": [
      "2 3 5 7 11 13 17 19 23 29 31 37 41 43 47 53 59 61 67 71 73 79 83 89 97 "
     ]
    }
   ],
   "source": [
    "num = int(input(\"Enter a number: \"))\n",
    "factorial = 1\n",
    "i = 1\n",
    "\n",
    "while i <= num:\n",
    "    factorial *= i\n",
    "    i += 1\n",
    "\n",
    "print(\"Factorial of\", num, \"is\", factorial)\n"
   ]
  },
  {
   "cell_type": "code",
   "execution_count": 2,
   "metadata": {},
   "outputs": [
    {
     "name": "stdout",
     "output_type": "stream",
     "text": [
      "0 1 1 2 3 5 8 13 "
     ]
    }
   ],
   "source": [
    "N = int(input(\"Enter the number of terms: \"))\n",
    "a, b = 0, 1\n",
    "count = 0\n",
    "\n",
    "while count < N:\n",
    "    print(a, end=\" \")\n",
    "    temp = a + b\n",
    "    a = b\n",
    "    b = temp\n",
    "    count += 1\n"
   ]
  },
  {
   "cell_type": "markdown",
   "metadata": {},
   "source": [
    "***more questions in while ***"
   ]
  },
  {
   "cell_type": "code",
   "execution_count": null,
   "metadata": {},
   "outputs": [],
   "source": [
    "num = int(input(\"Enter a number: \"))\n",
    "sum_digits = 0\n",
    "\n",
    "while num > 0:\n",
    "    sum_digits += num % 10  # Extract the last digit and add to sum\n",
    "    num //= 10  # Remove the last digit\n",
    "\n",
    "print(\"Sum of digits:\", sum_digits)\n"
   ]
  },
  {
   "cell_type": "code",
   "execution_count": null,
   "metadata": {},
   "outputs": [],
   "source": [
    "\n",
    "a = int(input(\"Enter first number: \"))\n",
    "b = int(input(\"Enter second number: \"))\n",
    "\n",
    "while b:\n",
    "    a, b = b, a % b  # Euclidean Algorithm\n",
    "\n",
    "print(\"GCD is:\", a)\n"
   ]
  },
  {
   "cell_type": "code",
   "execution_count": null,
   "metadata": {},
   "outputs": [],
   "source": [
    "num = int(input(\"Enter a number: \"))\n",
    "\n",
    "if num < 2:\n",
    "    print(num, \"is not a prime number\")\n",
    "else:\n",
    "    i = 2\n",
    "    is_prime = True\n",
    "    count =0\n",
    "\n",
    "    while i <= num//2 :  # Check divisibility up to sqrt(num)\n",
    "        if num % i == 0:\n",
    "            is_prime = False\n",
    "            count +=1\n",
    "            break\n",
    "        i += 1\n",
    "\n",
    "    if count == 0:\n",
    "        print(num, \"is a prime number\")\n",
    "    else:\n",
    "        print(num, \"is not a prime number\")\n"
   ]
  },
  {
   "cell_type": "code",
   "execution_count": null,
   "metadata": {},
   "outputs": [],
   "source": [
    "N = int(input(\"Enter the value of N: \"))\n",
    "i = 2  # Start from the first even number\n",
    "\n",
    "while i <= N:\n",
    "    print(i, end=\" \")\n",
    "    i += 2  # Increment by 2 to get the next even number\n"
   ]
  },
  {
   "cell_type": "code",
   "execution_count": null,
   "metadata": {},
   "outputs": [],
   "source": [
    "num = int(input(\"Enter a number: \"))\n",
    "largest = 0\n",
    "\n",
    "while num > 0:\n",
    "    digit = num % 10  # Extract last digit\n",
    "    if digit > largest:\n",
    "        largest = digit\n",
    "    num //= 10  # Remove last digit\n",
    "\n",
    "print(\"Largest digit:\", largest)\n"
   ]
  },
  {
   "cell_type": "code",
   "execution_count": null,
   "metadata": {},
   "outputs": [],
   "source": [
    "num = int(input(\"Enter a number: \"))\n",
    "smallest = 9  # Initialize with the largest possible digit\n",
    "\n",
    "while num > 0:\n",
    "    digit = num % 10  # Extract last digit\n",
    "    if digit < smallest:\n",
    "        smallest = digit\n",
    "    num //= 10  # Remove last digit\n",
    "\n",
    "print(\"Smallest digit:\", smallest)\n"
   ]
  },
  {
   "cell_type": "code",
   "execution_count": null,
   "metadata": {},
   "outputs": [],
   "source": [
    "N = int(input(\"Enter the value of N: \"))\n",
    "\n",
    "while N > 0:\n",
    "    print(N, end=\" \")\n",
    "    N -= 1  # Decrement to move towards 1\n"
   ]
  },
  {
   "cell_type": "code",
   "execution_count": null,
   "metadata": {},
   "outputs": [],
   "source": [
    "num = int(input(\"Enter a number: \"))\n",
    "temp = num\n",
    "sum_digits = 0\n",
    "num_digits = len(str(num))  # Count number of digits\n",
    "\n",
    "while temp > 0:\n",
    "    digit = temp % 10  # Extract last digit\n",
    "    sum_digits += digit ** num_digits  # Raise to power and add\n",
    "    temp //= 10  # Remove last digit\n",
    "\n",
    "if sum_digits == num:\n",
    "    print(num, \"is an Armstrong number\")\n",
    "else:\n",
    "    print(num, \"is not an Armstrong number\")\n"
   ]
  },
  {
   "cell_type": "markdown",
   "metadata": {},
   "source": [
    "***for loop***"
   ]
  },
  {
   "cell_type": "code",
   "execution_count": null,
   "metadata": {},
   "outputs": [],
   "source": [
    "for num in range(1, 11):\n",
    "    if num > 8:  # Stop if number is greater than 8\n",
    "        break\n",
    "    if num % 4 == 0:  # Skip numbers divisible by 4\n",
    "        continue\n",
    "    print(num, end=\" \")\n"
   ]
  },
  {
   "cell_type": "code",
   "execution_count": null,
   "metadata": {},
   "outputs": [],
   "source": [
    "\n",
    "numbers = [5, 10, 23, -3, 2, 34, 5, 5]\n",
    "\n",
    "for num in numbers:\n",
    "    if num < 0:  # Stop at the first negative number\n",
    "        break\n",
    "    print(num, end=\" \")\n"
   ]
  },
  {
   "cell_type": "code",
   "execution_count": null,
   "metadata": {},
   "outputs": [],
   "source": [
    "words = [\"apple\", \"zebra\", \"banana\", \"pizza\", \"grape\"]\n",
    "\n",
    "for word in words:\n",
    "    if \"z\" in word:\n",
    "        print(f\"Skipping word: {word}\")\n",
    "        continue  # Skips further processing for words with 'z'\n",
    "    print(f\"Processing word: {word}\")\n"
   ]
  },
  {
   "cell_type": "markdown",
   "metadata": {},
   "source": [
    "*** Nested for loop ***"
   ]
  },
  {
   "cell_type": "code",
   "execution_count": 1,
   "metadata": {},
   "outputs": [
    {
     "name": "stdout",
     "output_type": "stream",
     "text": [
      "153 370 371 407 "
     ]
    }
   ],
   "source": [
    "for num in range(100, 1000):\n",
    "    sum_of_cubes = 0\n",
    "    temp = num\n",
    "    for digit in str(num):  # Extract digits\n",
    "        sum_of_cubes += int(digit) ** 3  # Cube each digit and sum\n",
    "    if sum_of_cubes == num:\n",
    "        print(num, end=\" \")  # Print Armstrong number\n"
   ]
  },
  {
   "cell_type": "code",
   "execution_count": null,
   "metadata": {},
   "outputs": [],
   "source": [
    "N = int(input(\"Enter a number: \"))  # Get user input\n",
    "\n",
    "for x in range(1, N+1):\n",
    "    for y in range(1, N+1):\n",
    "        if x**2 + y**2 == N:  # Check condition\n",
    "            print(f\"({x}, {y})\")  # Print valid pairs\n"
   ]
  },
  {
   "cell_type": "code",
   "execution_count": null,
   "metadata": {},
   "outputs": [],
   "source": [
    "N = int(input(\"Enter the value of N: \"))  # Get user input\n",
    "\n",
    "print(\"Prime numbers between 1 and\", N, \"are:\")\n",
    "for num in range(2, N+1):  # Loop through 2 to N\n",
    "    is_prime = True\n",
    "    for i in range(2, num):  # Check divisibility from 2 to num-1\n",
    "        if num % i == 0:\n",
    "            is_prime = False\n",
    "            break  # Not a prime, exit loop\n",
    "    if is_prime:\n",
    "        print(num, end=\" \")  # Print prime number\n"
   ]
  }
 ],
 "metadata": {
  "kernelspec": {
   "display_name": "Python 3",
   "language": "python",
   "name": "python3"
  },
  "language_info": {
   "codemirror_mode": {
    "name": "ipython",
    "version": 3
   },
   "file_extension": ".py",
   "mimetype": "text/x-python",
   "name": "python",
   "nbconvert_exporter": "python",
   "pygments_lexer": "ipython3",
   "version": "3.10.0"
  }
 },
 "nbformat": 4,
 "nbformat_minor": 2
}
