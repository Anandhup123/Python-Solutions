{
 "cells": [
  {
   "cell_type": "code",
   "execution_count": null,
   "metadata": {},
   "outputs": [],
   "source": [
    "numbers = [1, 2, 3, 4, 5, 6, 7, 8, 9, 10]\n",
    "even_sum = sum(num for num in numbers if num % 2 == 0)\n",
    "print(\"Sum of even numbers:\", even_sum)\n"
   ]
  },
  {
   "cell_type": "code",
   "execution_count": null,
   "metadata": {},
   "outputs": [],
   "source": [
    "numbers = [10, 20, 4, 45, 99, 78]\n",
    "\n",
    "# Remove duplicates and sort in descending order\n",
    "unique_numbers = sorted(set(numbers), reverse=True)\n",
    "\n",
    "if len(unique_numbers) >= 2:\n",
    "    print(\"Second largest number:\", unique_numbers[1])\n",
    "else:\n",
    "    print(\"List does not have enough unique elements.\")\n"
   ]
  },
  {
   "cell_type": "code",
   "execution_count": null,
   "metadata": {},
   "outputs": [],
   "source": [
    "words = [\"apple\", \"banana\", \"kiwi\", \"cherry\", \"grape\"]\n",
    "sorted_words = sorted(words, key=len)\n",
    "print(\"Sorted by length:\", sorted_words)"
   ]
  },
  {
   "cell_type": "code",
   "execution_count": null,
   "metadata": {},
   "outputs": [],
   "source": [
    "def is_sorted(lst):\n",
    "    return lst == sorted(lst)\n",
    "\n",
    "numbers = [1, 2, 3, 4, 5]\n",
    "print(\"Is list sorted?\", is_sorted(numbers))  # Output: True\n",
    "\n",
    "numbers = [3, 1, 4, 2]\n",
    "print(\"Is list sorted?\", is_sorted(numbers))  # Output: False\n"
   ]
  },
  {
   "cell_type": "code",
   "execution_count": null,
   "metadata": {},
   "outputs": [],
   "source": [
    "list1 = [5, 2, 9]\n",
    "list2 = [8, 3, 7]\n",
    "\n",
    "merged_sorted_list = sorted(list1 + list2)\n",
    "print(\"Merged and sorted list:\", merged_sorted_list)\n"
   ]
  },
  {
   "cell_type": "markdown",
   "metadata": {},
   "source": [
    "***Multi dimensional List***"
   ]
  },
  {
   "cell_type": "code",
   "execution_count": null,
   "metadata": {},
   "outputs": [],
   "source": [
    "a = [[1, 2], [3, 4]]\n",
    "b = [[5, 6], [7, 8]]\n",
    "\n",
    "# Initialize result matrix with same dimensions\n",
    "result = [[0, 0], [0, 0]]\n",
    "\n",
    "# Perform element-wise addition\n",
    "for i in range(len(a)):  # Loop through rows\n",
    "    for j in range(len(a[0])):  # Loop through columns\n",
    "        result[i][j] = a[i][j] + b[i][j]\n",
    "\n",
    "# Print the result matrix\n",
    "print(\"Resultant Matrix after addition:\")\n",
    "for row in result:\n",
    "    print(row)\n"
   ]
  }
 ],
 "metadata": {
  "language_info": {
   "name": "python"
  }
 },
 "nbformat": 4,
 "nbformat_minor": 2
}
