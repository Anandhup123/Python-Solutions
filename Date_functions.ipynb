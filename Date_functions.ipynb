{
 "cells": [
  {
   "cell_type": "markdown",
   "metadata": {},
   "source": [
    "**_Problems on Time Delta _**\n"
   ]
  },
  {
   "cell_type": "markdown",
   "metadata": {},
   "source": [
    "You are given today’s date. Calculate the date after 45 days.\n"
   ]
  },
  {
   "cell_type": "code",
   "execution_count": null,
   "metadata": {},
   "outputs": [
    {
     "name": "stdout",
     "output_type": "stream",
     "text": [
      "2025-04-26\n"
     ]
    }
   ],
   "source": [
    "from datetime import datetime,timedelta\n",
    "today_date = datetime.today()\n",
    "print(\"Date after 45 Days : \",today_date.date()+timedelta(days=45))"
   ]
  },
  {
   "cell_type": "markdown",
   "metadata": {},
   "source": [
    "Find how many days are left until New Year’s Day (January 1st, 2026).\n"
   ]
  },
  {
   "cell_type": "code",
   "execution_count": 7,
   "metadata": {},
   "outputs": [
    {
     "name": "stdout",
     "output_type": "stream",
     "text": [
      "Days left until New Year's Day 2026:  294\n"
     ]
    }
   ],
   "source": [
    "from datetime import datetime , timedelta\n",
    "\n",
    "today = datetime.today()\n",
    "new_Year = datetime(2026,1,1)\n",
    "Days = (new_Year - today).days\n",
    "print(\"Days left until New Year's Day 2026: \",Days)"
   ]
  },
  {
   "cell_type": "markdown",
   "metadata": {},
   "source": [
    "An employee joined on June 15, 2022. Calculate how many days they have worked in the company.\n"
   ]
  },
  {
   "cell_type": "code",
   "execution_count": 9,
   "metadata": {},
   "outputs": [
    {
     "name": "stdout",
     "output_type": "stream",
     "text": [
      "Number of days he Worked :  1001\n"
     ]
    }
   ],
   "source": [
    "from datetime import datetime , timedelta\n",
    "\n",
    "joining_Date = datetime(2022,6,15)\n",
    "days_Worked = (datetime.today() - joining_Date).days\n",
    "print(\"Number of days he Worked : \",days_Worked)"
   ]
  },
  {
   "cell_type": "markdown",
   "metadata": {},
   "source": [
    "A project started at 9:15 AM and ended at 3:45 PM on the same day. Find out the total hours and minutes worked.\n"
   ]
  },
  {
   "cell_type": "code",
   "execution_count": 13,
   "metadata": {},
   "outputs": [
    {
     "name": "stdout",
     "output_type": "stream",
     "text": [
      "Total Hours and Minutes Worked : 6 hours  and 30 minutes\n"
     ]
    }
   ],
   "source": [
    "from datetime import datetime\n",
    "\n",
    "start_time = datetime(2025, 3, 12, 9, 15)\n",
    "end_time = datetime(2025, 3, 12, 15, 45)\n",
    "work_Duration = end_time - start_time\n",
    "hours_Worked = work_Duration.seconds // 3600\n",
    "minutes_Worked = (work_Duration.seconds % 3600)//60\n",
    "print(f\"Total Hours and Minutes Worked : {hours_Worked} hours  and {minutes_Worked} minutes\")\n"
   ]
  }
 ],
 "metadata": {
  "kernelspec": {
   "display_name": "Python 3",
   "language": "python",
   "name": "python3"
  },
  "language_info": {
   "codemirror_mode": {
    "name": "ipython",
    "version": 3
   },
   "file_extension": ".py",
   "mimetype": "text/x-python",
   "name": "python",
   "nbconvert_exporter": "python",
   "pygments_lexer": "ipython3",
   "version": "3.10.0"
  }
 },
 "nbformat": 4,
 "nbformat_minor": 2
}
