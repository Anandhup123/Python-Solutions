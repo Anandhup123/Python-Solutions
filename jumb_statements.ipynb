{
 "cells": [
  {
   "cell_type": "code",
   "execution_count": null,
   "metadata": {},
   "outputs": [],
   "source": [
    "for num in range(1, 11):\n",
    "    if num > 8:\n",
    "        break  # Stop the loop if the number is greater than 8\n",
    "    if num % 4 == 0:\n",
    "        continue  # Skip numbers divisible by 4\n",
    "    print(num, end=\" \")\n"
   ]
  },
  {
   "cell_type": "code",
   "execution_count": null,
   "metadata": {},
   "outputs": [],
   "source": [
    "numbers = [5, 10, 23, -3, 2, 34, 5, 5]\n",
    "\n",
    "for num in numbers:\n",
    "    if num < 0:\n",
    "        break  # Stop processing when a negative number is found\n",
    "    print(num, end=\" \")\n"
   ]
  },
  {
   "cell_type": "code",
   "execution_count": null,
   "metadata": {},
   "outputs": [],
   "source": [
    "words = [\"apple\", \"banana\", \"zebra\", \"grape\", \"pizza\", \"mango\"]\n",
    "\n",
    "for word in words:\n",
    "    if \"z\" in word:\n",
    "        pass  # Placeholder, doesn't process the word\n",
    "    else:\n",
    "        print(word, end=\" \")"
   ]
  }
 ],
 "metadata": {
  "language_info": {
   "name": "python"
  }
 },
 "nbformat": 4,
 "nbformat_minor": 2
}
