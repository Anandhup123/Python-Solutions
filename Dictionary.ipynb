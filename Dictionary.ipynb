{
 "cells": [
  {
   "cell_type": "code",
   "execution_count": 1,
   "metadata": {},
   "outputs": [
    {
     "name": "stdout",
     "output_type": "stream",
     "text": [
      "Merged Dictionary: {'a': 1, 'b': 2, 'c': 3, 'd': 4}\n"
     ]
    }
   ],
   "source": [
    "dict1 = {'a': 1, 'b': 2}\n",
    "dict2 = {'c': 3, 'd': 4}\n",
    "\n",
    "# Method 1: Using update()\n",
    "merged_dict = dict1.copy()\n",
    "merged_dict.update(dict2)\n",
    "\n",
    "# Method 2: Using dictionary unpacking (Python 3.5+)\n",
    "merged_dict2 = {**dict1, **dict2}\n",
    "\n",
    "print(\"Merged Dictionary:\", merged_dict)\n"
   ]
  },
  {
   "cell_type": "code",
   "execution_count": null,
   "metadata": {},
   "outputs": [],
   "source": [
    "students = {\n",
    "    \"Alice\": {\"Math\": 85, \"Science\": 90},\n",
    "    \"Bob\": {\"Math\": 78, \"History\": 82}\n",
    "}\n",
    "\n",
    "students[\"Alice\"][\"English\"] = 88  # Adding new subject for Alice\n",
    "students[\"Bob\"][\"Science\"] = 80  # Adding new subject for Bob\n",
    "\n",
    "print(students)\n"
   ]
  },
  {
   "cell_type": "code",
   "execution_count": null,
   "metadata": {},
   "outputs": [],
   "source": [
    "employees = {}\n",
    "\n",
    "employees[\"John\"] = 50000\n",
    "employees[\"Emma\"] = 60000\n",
    "\n",
    "employees[\"John\"] = 55000  # Updating John's salary\n",
    "\n",
    "for name, salary in employees.items():\n",
    "    print(name, \":\", salary)\n",
    "\n",
    "highest = max(employees, key=employees.get)\n",
    "print(\"Highest Paid Employee:\", highest, \"-\", employees[highest])\n"
   ]
  },
  {
   "cell_type": "code",
   "execution_count": null,
   "metadata": {},
   "outputs": [],
   "source": [
    "students_marks = {}\n",
    "\n",
    "students_marks[\"Alice\"] = {\"Math\": 85, \"Science\": 90}\n",
    "students_marks[\"Bob\"] = {\"Math\": 78, \"History\": 82}\n",
    "\n",
    "# Calculating Alice's average\n",
    "alice_avg = sum(students_marks[\"Alice\"].values()) / len(students_marks[\"Alice\"])\n",
    "\n",
    "# Finding highest and lowest scoring students\n",
    "averages = {name: sum(marks.values()) / len(marks) for name, marks in students_marks.items()}\n",
    "highest = max(averages, key=averages.get)\n",
    "lowest = min(averages, key=averages.get)\n",
    "\n",
    "print(\"Alice's Average:\", alice_avg)\n",
    "print(\"Highest Scoring Student:\", highest, \"-\", averages[highest])\n",
    "print(\"Lowest Scoring Student:\", lowest, \"-\", averages[lowest])\n"
   ]
  },
  {
   "cell_type": "code",
   "execution_count": null,
   "metadata": {},
   "outputs": [],
   "source": [
    "quiz = {\n",
    "    \"What is the capital of France?\": \"Paris\",\n",
    "    \"What is 5 + 7?\": \"12\",\n",
    "    \"What is the largest planet in our solar system?\": \"Jupiter\"\n",
    "}\n",
    "\n",
    "score = 0\n",
    "\n",
    "for question, answer in quiz.items():\n",
    "    user_answer = input(question + \" \")\n",
    "    if user_answer.strip().lower() == answer.lower():\n",
    "        print(\"Correct!\")\n",
    "        score += 1\n",
    "    else:\n",
    "        print(\"Wrong! The correct answer is\", answer)\n",
    "\n",
    "print(\"Your final score is\", score, \"/\", len(quiz))\n"
   ]
  },
  {
   "cell_type": "code",
   "execution_count": null,
   "metadata": {},
   "outputs": [],
   "source": [
    "my_dic = dict(name=\"Anandhu\",Age=44,email=\"myselfanandhu@gmail.com\")\n",
    "print(my_dic)"
   ]
  }
 ],
 "metadata": {
  "kernelspec": {
   "display_name": "Python 3",
   "language": "python",
   "name": "python3"
  },
  "language_info": {
   "codemirror_mode": {
    "name": "ipython",
    "version": 3
   },
   "file_extension": ".py",
   "mimetype": "text/x-python",
   "name": "python",
   "nbconvert_exporter": "python",
   "pygments_lexer": "ipython3",
   "version": "3.10.0"
  }
 },
 "nbformat": 4,
 "nbformat_minor": 2
}
